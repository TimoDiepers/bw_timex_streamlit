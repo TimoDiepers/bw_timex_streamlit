{
 "cells": [
  {
   "cell_type": "markdown",
   "metadata": {},
   "source": [
    "# Getting Started with `bw_timex`\n",
    "\n",
    "This notebook will help you quickly getting started with your time-explicit LCA project. We're keeping it simple here - no deep dives into how things work in the background, no exploring of all the features and options `bw_timex` has. Just a quick walkthrough of the different steps of a `TimexLCA`. Here's a rundown:\n",
    "\n",
    "<div style=\"display: flex; justify-content: center; background-color: white; border-radius: 15px; padding: 10px; width: 45%; margin: auto;\">\n",
    "  <img src=\"data/method.svg\" style=\"border-radius: 15px; width: 100%;\">\n",
    "</div>\n",
    "\n",
    "In the following sections, we'll walk through the steps 1-4, considering a very simple dummy system.\n"
   ]
  },
  {
   "cell_type": "markdown",
   "metadata": {},
   "source": [
    "## Step 1 - Adding temporal information\n",
    "\n",
    "To get you started with time-explicit LCA, we'll investigate this very simple production system with two \"technosphere\" nodes A and B and a \"biosphere\" node representing some CO2 emissions. For the sake of this example, we'll assume that we demand Process A to run exactly once.\n",
    "\n",
    "```mermaid\n",
    "flowchart LR\n",
    "subgraph background[<i>background</i>]\n",
    "    B(Process B):::bg\n",
    "end\n",
    "\n",
    "subgraph foreground[<i>foreground</i>]\n",
    "    A(Process A):::fg\n",
    "end\n",
    "\n",
    "subgraph biosphere[<i>biosphere</i>]\n",
    "    CO2(CO2):::bio\n",
    "end\n",
    "\n",
    "B-->|\"3 kg\"|A\n",
    "A-.->|\"5 kg\"|CO2\n",
    "B-.->|\"11 kg\"|CO2\n",
    "\n",
    "classDef fg color:#222832, fill:#3fb1c5, stroke:none;\n",
    "classDef bg color:#222832, fill:#3fb1c5, stroke:none;\n",
    "classDef bio color:#222832, fill:#9c5ffd, stroke:none;\n",
    "style background fill:none, stroke:none;\n",
    "style foreground fill:none, stroke:none;\n",
    "style biosphere fill:none, stroke:none;\n",
    "```"
   ]
  },
  {
   "cell_type": "markdown",
   "metadata": {
    "vscode": {
     "languageId": "plaintext"
    }
   },
   "source": [
    "First, we need to model this production system - so far only \"normal\" brightway stuff:"
   ]
  },
  {
   "cell_type": "code",
   "execution_count": 1,
   "metadata": {},
   "outputs": [
    {
     "name": "stderr",
     "output_type": "stream",
     "text": [
      "100%|██████████| 1/1 [00:00<00:00, 5652.70it/s]\n"
     ]
    },
    {
     "name": "stdout",
     "output_type": "stream",
     "text": [
      "Vacuuming database \n",
      "Not able to determine geocollections for all datasets. This database is not ready for regionalization.\n"
     ]
    },
    {
     "name": "stderr",
     "output_type": "stream",
     "text": [
      "100%|██████████| 1/1 [00:00<00:00, 22795.13it/s]\n"
     ]
    },
    {
     "name": "stdout",
     "output_type": "stream",
     "text": [
      "Vacuuming database \n",
      "Not able to determine geocollections for all datasets. This database is not ready for regionalization.\n"
     ]
    },
    {
     "name": "stderr",
     "output_type": "stream",
     "text": [
      "100%|██████████| 1/1 [00:00<00:00, 20460.02it/s]"
     ]
    },
    {
     "name": "stdout",
     "output_type": "stream",
     "text": [
      "Vacuuming database \n"
     ]
    },
    {
     "name": "stderr",
     "output_type": "stream",
     "text": [
      "\n"
     ]
    }
   ],
   "source": [
    "import bw2data as bd\n",
    "\n",
    "bd.projects.set_current(\"getting_started_with_timex\")\n",
    "\n",
    "bd.Database(\"biosphere\").write(\n",
    "    {\n",
    "        (\"biosphere\", \"CO2\"): {\n",
    "            \"type\": \"emission\",\n",
    "            \"name\": \"CO2\",\n",
    "        },\n",
    "    }\n",
    ")\n",
    "\n",
    "bd.Database(\"background\").write(\n",
    "    {\n",
    "        (\"background\", \"B\"): {\n",
    "            \"name\": \"B\",\n",
    "            \"location\": \"somewhere\",\n",
    "            \"reference product\": \"B\",\n",
    "            \"exchanges\": [\n",
    "                {\n",
    "                    \"amount\": 1,\n",
    "                    \"type\": \"production\",\n",
    "                    \"input\": (\"background\", \"B\"),\n",
    "                },\n",
    "                {\n",
    "                    \"amount\": 11,\n",
    "                    \"type\": \"biosphere\",\n",
    "                    \"input\": (\"biosphere\", \"CO2\"),\n",
    "                },\n",
    "            ],\n",
    "        },\n",
    "    }\n",
    ")\n",
    "\n",
    "bd.Database(\"foreground\").write(\n",
    "    {\n",
    "        (\"foreground\", \"A\"): {\n",
    "            \"name\": \"A\",\n",
    "            \"location\": \"somewhere\",\n",
    "            \"reference product\": \"A\",\n",
    "            \"exchanges\": [\n",
    "                {\n",
    "                    \"amount\": 1,\n",
    "                    \"type\": \"production\",\n",
    "                    \"input\": (\"foreground\", \"A\"),\n",
    "                },\n",
    "                {\n",
    "                    \"amount\": 3,\n",
    "                    \"type\": \"technosphere\",\n",
    "                    \"input\": (\"background\", \"B\"),\n",
    "                },\n",
    "                {\n",
    "                    \"amount\": 5,\n",
    "                    \"type\": \"biosphere\",\n",
    "                    \"input\": (\"biosphere\", \"CO2\"),\n",
    "                }\n",
    "            ],\n",
    "        },\n",
    "    }\n",
    ")\n",
    "\n",
    "bd.Method((\"our\", \"method\")).write(\n",
    "    [\n",
    "        ((\"biosphere\", \"CO2\"), 1),\n",
    "    ]\n",
    ")"
   ]
  },
  {
   "cell_type": "markdown",
   "metadata": {},
   "source": [
    "Now, if you want to consider time in your LCA, you need to somehow add temporal information. For time-explicit LCA, we consider two kinds of temporal information, that will be discussed in the following."
   ]
  },
  {
   "cell_type": "markdown",
   "metadata": {},
   "source": [
    "### Temporal distributions\n",
    "\n",
    "To determine the timing of the exchanges within the production system, we add the `temporal_distribution` attribute to the respective exchanges. To carry the temporal information, we use the [`TemporalDistribution`](https://docs.brightway.dev/projects/bw-temporalis/en/stable/content/api/bw_temporalis/temporal_distribution/index.html#bw_temporalis.temporal_distribution.TemporalDistribution) class from [`bw_temporalis`](https://github.com/brightway-lca/bw_temporalis). This class is a *container for a series of amount spread over time*, so it tells you what share of an exchange happens at what point in time. So, let's include this information in out production system - visually at first:\n",
    "\n",
    "```mermaid\n",
    "flowchart LR\n",
    "subgraph background[\" \"]\n",
    "    B_2020(Process B):::bg\n",
    "end\n",
    "\n",
    "subgraph foreground[\" \"]\n",
    "    A(Process A):::fg\n",
    "end\n",
    "\n",
    "subgraph biosphere[\" \"]\n",
    "    CO2:::b\n",
    "end\n",
    "\n",
    "B_2020-->|\"amounts: [30%,50%,20%] * 3 kg\\n dates:[-2,0,+4]\" years|A\n",
    "A-.->|\"amounts: [60%, 40%] * 5 kg\\n dates: [0,+1]\" years|CO2\n",
    "B_2020-.->|\"amounts: [100%] * 11 kg\\n dates:[0]\" years|CO2\n",
    "\n",
    "classDef bg color:#222832, fill:#3fb1c5, stroke:none;\n",
    "classDef fg color:#222832, fill:#3fb1c5, stroke:none;\n",
    "classDef b color:#222832, fill:#9c5ffd, stroke:none;\n",
    "style foreground fill:none, stroke:none;\n",
    "style background fill:none, stroke:none;\n",
    "style biosphere fill:none, stroke:none;\n",
    "\n",
    "```\n",
    "\n",
    "Now it's time to add this information to our modeled production system in brightway:\n"
   ]
  },
  {
   "cell_type": "code",
   "execution_count": 4,
   "metadata": {},
   "outputs": [],
   "source": [
    "import numpy as np\n",
    "from bw_temporalis import TemporalDistribution\n",
    "from bw_timex.utils import add_temporal_distribution_to_exchange\n",
    "\n",
    "# Starting with the exchange between A and B\n",
    "# First, create a TemporalDistribution with the time information from above\n",
    "td_b_to_a = TemporalDistribution(\n",
    "    date=np.array([-2, 0, 4], dtype=\"timedelta64[Y]\"),\n",
    "    amount=np.array([0.3, 0.5, 0.2]),\n",
    ")\n",
    "\n",
    "# Now add the temporal distribution to the corresponding exchange. In \n",
    "# principle, you just have to do the following:\n",
    "# exchange_object[\"temporal_distribution\"] = TemporalDistribution \n",
    "# We currently don't have the exchange-object at hand here, but we can \n",
    "# use the utility function add_temporal_distribution_to_exchange to help.\n",
    "add_temporal_distribution_to_exchange(\n",
    "    temporal_distribution=td_b_to_a, \n",
    "    input_code=\"B\", \n",
    "    input_database=\"background\",\n",
    "    output_code=\"A\",\n",
    "    output_database=\"foreground\"\n",
    ")\n",
    "\n",
    "# Now we do the same for our other temporalized exchange between A and CO2\n",
    "td_a_to_co2 = TemporalDistribution(\n",
    "    date=np.array([0, 1], dtype=\"timedelta64[Y]\"),\n",
    "    amount=np.array([0.6, 0.4]),\n",
    ")\n",
    "\n",
    "# We actually only have to define enough fields to uniquely identify the \n",
    "# exchange here\n",
    "add_temporal_distribution_to_exchange(\n",
    "    temporal_distribution=td_a_to_co2, \n",
    "    input_code=\"CO2\", \n",
    "    output_code=\"A\"\n",
    ")"
   ]
  },
  {
   "cell_type": "markdown",
   "metadata": {},
   "source": [
    "### Prospective data\n",
    "\n",
    "The other kind of temporal data we can add is some prospective information on how our processes change over time. So, for our simple example, let's say our background process B somehow evolves, so that it emitts less CO2 in the future. To make it precise, we assume that the original process we modeled above represents the process state in the year 2020, emitting 11 kg CO2, which reduces to 7 kg CO2 by 2030:\n",
    "\n",
    "```mermaid\n",
    "flowchart LR\n",
    "subgraph background[\" \"]\n",
    "    B_2020(Process B \\n 2020):::bg\n",
    "    B_2030(Process B \\n 2030):::bg\n",
    "end\n",
    "\n",
    "subgraph foreground[\" \"]\n",
    "    A(Process A):::fg\n",
    "end\n",
    "\n",
    "subgraph biosphere[\" \"]\n",
    "    CO2:::b\n",
    "end\n",
    "\n",
    "B_2020-->|\"amounts: [30%,50%,20%] * 3 kg\\n dates:[-2,0,+4]\" years|A\n",
    "A-.->|\"amounts: [60%, 40%] * 5 kg\\n dates: [0,+1]\" years|CO2\n",
    "B_2020-.->|\"amounts: [100%] * <span style='color:#9c5ffd'><b>11 kg</b></span>\\n dates:[0]\" years|CO2\n",
    "B_2030-.->|\"amounts: [100%] * <span style='color:#9c5ffd'><b>7 kg</b></span>\\n dates:[0]\" years|CO2\n",
    "\n",
    "classDef bg color:#222832, fill:#3fb1c5, stroke:none;\n",
    "classDef fg color:#222832, fill:#3fb1c5, stroke:none;\n",
    "classDef b color:#222832, fill:#9c5ffd, stroke:none;\n",
    "style foreground fill:none, stroke:none;\n",
    "style background fill:none, stroke:none;\n",
    "style biosphere fill:none, stroke:none;\n",
    "\n",
    "```\n"
   ]
  },
  {
   "cell_type": "code",
   "execution_count": 5,
   "metadata": {},
   "outputs": [
    {
     "name": "stdout",
     "output_type": "stream",
     "text": [
      "Not able to determine geocollections for all datasets. This database is not ready for regionalization.\n"
     ]
    },
    {
     "name": "stderr",
     "output_type": "stream",
     "text": [
      "100%|██████████| 1/1 [00:00<00:00, 14513.16it/s]"
     ]
    },
    {
     "name": "stdout",
     "output_type": "stream",
     "text": [
      "Vacuuming database \n"
     ]
    },
    {
     "name": "stderr",
     "output_type": "stream",
     "text": [
      "\n"
     ]
    }
   ],
   "source": [
    "bd.Database(\"background_2030\").write(\n",
    "    {\n",
    "        (\"background_2030\", \"B\"): {\n",
    "            \"name\": \"B\",\n",
    "            \"location\": \"somewhere\",\n",
    "            \"reference product\": \"B\",\n",
    "            \"exchanges\": [\n",
    "                {\n",
    "                    \"amount\": 1,\n",
    "                    \"type\": \"production\",\n",
    "                    \"input\": (\"background_2030\", \"B\"),\n",
    "                },\n",
    "                {\n",
    "                    \"amount\": 7,\n",
    "                    \"type\": \"biosphere\",\n",
    "                    \"input\": (\"biosphere\", \"CO2\"),\n",
    "                },\n",
    "            ],\n",
    "        },\n",
    "    }\n",
    ")"
   ]
  },
  {
   "cell_type": "code",
   "execution_count": 6,
   "metadata": {},
   "outputs": [
    {
     "name": "stdout",
     "output_type": "stream",
     "text": [
      "Not able to determine geocollections for all datasets. This database is not ready for regionalization.\n"
     ]
    },
    {
     "name": "stderr",
     "output_type": "stream",
     "text": [
      "100%|██████████| 1/1 [00:00<00:00, 17476.27it/s]"
     ]
    },
    {
     "name": "stdout",
     "output_type": "stream",
     "text": [
      "Vacuuming database \n"
     ]
    },
    {
     "name": "stderr",
     "output_type": "stream",
     "text": [
      "\n"
     ]
    }
   ],
   "source": [
    "bd.Database(\"background_2030\").write(\n",
    "    {\n",
    "        (\"background_2030\", \"B\"): {\n",
    "            \"name\": \"B\",\n",
    "            \"location\": \"somewhere\",\n",
    "            \"reference product\": \"B\",\n",
    "            \"exchanges\": [\n",
    "                {\n",
    "                    \"amount\": 1,\n",
    "                    \"type\": \"production\",\n",
    "                    \"input\": (\"background_2030\", \"B\"),\n",
    "                },\n",
    "                {\n",
    "                    \"amount\": 7,\n",
    "                    \"type\": \"biosphere\",\n",
    "                    \"input\": (\"biosphere\", \"CO2\"),\n",
    "                },\n",
    "            ],\n",
    "        },\n",
    "    }\n",
    ")"
   ]
  },
  {
   "cell_type": "markdown",
   "metadata": {},
   "source": [
    "So, as you can see, the prospective processes can reside within your normal brightway databases. To hand them to `bw_timex`, we just need to define a dictionary that maps the prospective database names to the point in time that they represent:"
   ]
  },
  {
   "cell_type": "code",
   "execution_count": 7,
   "metadata": {},
   "outputs": [],
   "source": [
    "from datetime import datetime\n",
    "\n",
    "# Note: The foreground does not represent a specific point in time, but should \n",
    "# later be dynamically distributed over time\n",
    "database_date_dict = {\n",
    "    \"background\": datetime.strptime(\"2020\", \"%Y\"),\n",
    "    \"background_2030\": datetime.strptime(\"2030\", \"%Y\"),\n",
    "    \"foreground\": \"dynamic\",\n",
    "}"
   ]
  },
  {
   "cell_type": "markdown",
   "metadata": {},
   "source": [
    "> **Note:** You can use whatever data source you want for this prospective data. A nice package from the Brightway cosmos that can help you is [premise](https://premise.readthedocs.io/en/latest/introduction.html)."
   ]
  },
  {
   "cell_type": "markdown",
   "metadata": {},
   "source": [
    "## Step 2 - Building the process timeline \n",
    "\n",
    "With all the temporal information prepared, we can now instantiate our TimexLCA object. This is very similar to a normal Brightway LCA object, but with the additional argument of our `database_date_dict`:"
   ]
  },
  {
   "cell_type": "code",
   "execution_count": 8,
   "metadata": {},
   "outputs": [],
   "source": [
    "from bw_timex import TimexLCA\n",
    "\n",
    "tlca = TimexLCA(\n",
    "    demand={(\"foreground\", \"A\"): 1},\n",
    "    method=(\"our\", \"method\"),\n",
    "    database_date_dict=database_date_dict,\n",
    ")"
   ]
  },
  {
   "cell_type": "markdown",
   "metadata": {},
   "source": [
    "Using our new `tlca` object, we can now build the timeline of processes that leads to our functional unit, \"A\". If not specified otherwise, it's assumed that the demand occurs in the current year, which is 2024 at the time of writing this. Actually building the timeline is now very simple on the user-side:"
   ]
  },
  {
   "cell_type": "code",
   "execution_count": 9,
   "metadata": {},
   "outputs": [
    {
     "name": "stdout",
     "output_type": "stream",
     "text": [
      "Starting graph traversal\n",
      "Calculation count: 1\n"
     ]
    },
    {
     "name": "stderr",
     "output_type": "stream",
     "text": [
      "/Users/timodiepers/Documents/Coding/bw_timex/bw_timex/timex_lca.py:195: UserWarning: No edge filter function provided. Skipping all edges within background databases.\n",
      "  warnings.warn(\n"
     ]
    },
    {
     "data": {
      "text/html": [
       "<div>\n",
       "<style scoped>\n",
       "    .dataframe tbody tr th:only-of-type {\n",
       "        vertical-align: middle;\n",
       "    }\n",
       "\n",
       "    .dataframe tbody tr th {\n",
       "        vertical-align: top;\n",
       "    }\n",
       "\n",
       "    .dataframe thead th {\n",
       "        text-align: right;\n",
       "    }\n",
       "</style>\n",
       "<table border=\"1\" class=\"dataframe\">\n",
       "  <thead>\n",
       "    <tr style=\"text-align: right;\">\n",
       "      <th></th>\n",
       "      <th>date_producer</th>\n",
       "      <th>producer_name</th>\n",
       "      <th>date_consumer</th>\n",
       "      <th>consumer_name</th>\n",
       "      <th>amount</th>\n",
       "      <th>interpolation_weights</th>\n",
       "    </tr>\n",
       "  </thead>\n",
       "  <tbody>\n",
       "    <tr>\n",
       "      <th>0</th>\n",
       "      <td>2022-01-01</td>\n",
       "      <td>B</td>\n",
       "      <td>2024-01-01</td>\n",
       "      <td>A</td>\n",
       "      <td>0.9</td>\n",
       "      <td>{'background': 0.7998905009581166, 'background...</td>\n",
       "    </tr>\n",
       "    <tr>\n",
       "      <th>1</th>\n",
       "      <td>2024-01-01</td>\n",
       "      <td>B</td>\n",
       "      <td>2024-01-01</td>\n",
       "      <td>A</td>\n",
       "      <td>1.5</td>\n",
       "      <td>{'background': 0.6000547495209416, 'background...</td>\n",
       "    </tr>\n",
       "    <tr>\n",
       "      <th>2</th>\n",
       "      <td>2024-01-01</td>\n",
       "      <td>A</td>\n",
       "      <td>2024-01-01</td>\n",
       "      <td>-1</td>\n",
       "      <td>1.0</td>\n",
       "      <td>None</td>\n",
       "    </tr>\n",
       "    <tr>\n",
       "      <th>3</th>\n",
       "      <td>2028-01-01</td>\n",
       "      <td>B</td>\n",
       "      <td>2024-01-01</td>\n",
       "      <td>A</td>\n",
       "      <td>0.6</td>\n",
       "      <td>{'background': 0.20010949904188335, 'backgroun...</td>\n",
       "    </tr>\n",
       "  </tbody>\n",
       "</table>\n",
       "</div>"
      ],
      "text/plain": [
       "  date_producer producer_name date_consumer consumer_name amount  \\\n",
       "0    2022-01-01             B    2024-01-01             A    0.9   \n",
       "1    2024-01-01             B    2024-01-01             A    1.5   \n",
       "2    2024-01-01             A    2024-01-01            -1    1.0   \n",
       "3    2028-01-01             B    2024-01-01             A    0.6   \n",
       "\n",
       "                               interpolation_weights  \n",
       "0  {'background': 0.7998905009581166, 'background...  \n",
       "1  {'background': 0.6000547495209416, 'background...  \n",
       "2                                               None  \n",
       "3  {'background': 0.20010949904188335, 'backgroun...  "
      ]
     },
     "execution_count": 9,
     "metadata": {},
     "output_type": "execute_result"
    }
   ],
   "source": [
    "tlca.build_timeline()"
   ]
  },
  {
   "cell_type": "markdown",
   "metadata": {},
   "source": [
    "Calling this directly returned the `tlca.timeline` dataframe. Here we can see which share of which exchange happens at what point in time. Additionally, the \"interpolation_weights\" already tell us what share of an exchange should come from which database. With this info, we can calculate our time-explicit LCI in the next step."
   ]
  },
  {
   "cell_type": "markdown",
   "metadata": {},
   "source": [
    "## Step 3 - Calculating the time-explicit LCI\n",
    "\n",
    "Calculating the time-explicit LCI from the timeline is very simple, at least from the user perspective:\n"
   ]
  },
  {
   "cell_type": "code",
   "execution_count": 10,
   "metadata": {},
   "outputs": [
    {
     "name": "stderr",
     "output_type": "stream",
     "text": [
      "/Users/timodiepers/anaconda3/envs/timex/lib/python3.10/site-packages/bw2calc/lca_base.py:127: SparseEfficiencyWarning: splu converted its input to CSC format\n",
      "  self.solver = factorized(self.technosphere_matrix)\n"
     ]
    }
   ],
   "source": [
    "tlca.lci()"
   ]
  },
  {
   "cell_type": "markdown",
   "metadata": {},
   "source": [
    "Under the hood, we re-build the technosphere and biosphere matrices, adding new rows and columns to carry the extra temporal information. More on that in the [Theory Section](https://docs.brightway.dev/projects/bw-timex/en/latest/content/theory.html#Modifying-the-matrices) of our docs.\n",
    "\n",
    "Now that the inventory is calculated, we can characterize it in the next step."
   ]
  },
  {
   "cell_type": "markdown",
   "metadata": {},
   "source": [
    "## Step 4 - Impact assessment\n",
    "\n",
    "To characterize the calculated inventory, we have two options: Static and dynamic life cycle impact assessment (LCIA).\n",
    "\n",
    "### Static LCIA\n",
    "If we don't care about the timing of the emissions, we can do static LCIA using the standard characterization factors. To characterize the inventory with the impact assessment method that we initially chose when creating our `TimexLCA` object, we can simply call:"
   ]
  },
  {
   "cell_type": "code",
   "execution_count": 11,
   "metadata": {},
   "outputs": [],
   "source": [
    "tlca.static_lcia()"
   ]
  },
  {
   "cell_type": "markdown",
   "metadata": {},
   "source": [
    "and investigate the resulting score like this:"
   ]
  },
  {
   "cell_type": "code",
   "execution_count": 12,
   "metadata": {},
   "outputs": [
    {
     "data": {
      "text/plain": [
       "32.96019709827539"
      ]
     },
     "execution_count": 12,
     "metadata": {},
     "output_type": "execute_result"
    }
   ],
   "source": [
    "tlca.static_score"
   ]
  },
  {
   "cell_type": "markdown",
   "metadata": {},
   "source": [
    "### Dynamic LCIA\n",
    "\n",
    "The inventory calculated by a `TimexLCA` retains temporal information. That means that in addition to knowing which process emitts what substance, we also know the timing of each emission. This allows for more advanced, dynamic characterization using characterization functions instead of just factors. In `bw_timex`, users can either use their own curstom functions or use some existing ones, e.g., from the package [`dynamic_characterization`](https://dynamic-characterization.readthedocs.io/en/latest/). We'll do the latter here. \n",
    "\n",
    "First, we need to define which characterization function we want to apply to which biosphere flow:"
   ]
  },
  {
   "cell_type": "code",
   "execution_count": 13,
   "metadata": {},
   "outputs": [],
   "source": [
    "from dynamic_characterization.timex import characterize_co2\n",
    "emission_id = bd.get_activity((\"biosphere\", \"CO2\")).id\n",
    "\n",
    "characterization_function_dict = {\n",
    "    co2: characterize_co2,\n",
    "    ch4: characterize_ch4,\n",
    "}"
   ]
  },
  {
   "cell_type": "markdown",
   "metadata": {},
   "source": [
    "So, let's characterize our inventory. As a metric we choose radiative forcing, and a time horizon of 100 years:"
   ]
  },
  {
   "cell_type": "code",
   "execution_count": 14,
   "metadata": {},
   "outputs": [
    {
     "data": {
      "text/html": [
       "<div>\n",
       "<style scoped>\n",
       "    .dataframe tbody tr th:only-of-type {\n",
       "        vertical-align: middle;\n",
       "    }\n",
       "\n",
       "    .dataframe tbody tr th {\n",
       "        vertical-align: top;\n",
       "    }\n",
       "\n",
       "    .dataframe thead th {\n",
       "        text-align: right;\n",
       "    }\n",
       "</style>\n",
       "<table border=\"1\" class=\"dataframe\">\n",
       "  <thead>\n",
       "    <tr style=\"text-align: right;\">\n",
       "      <th></th>\n",
       "      <th>date</th>\n",
       "      <th>amount</th>\n",
       "      <th>flow</th>\n",
       "      <th>activity</th>\n",
       "    </tr>\n",
       "  </thead>\n",
       "  <tbody>\n",
       "    <tr>\n",
       "      <th>0</th>\n",
       "      <td>2023-01-01 05:49:12</td>\n",
       "      <td>1.512067e-14</td>\n",
       "      <td>1</td>\n",
       "      <td>5</td>\n",
       "    </tr>\n",
       "    <tr>\n",
       "      <th>1</th>\n",
       "      <td>2024-01-01 11:38:24</td>\n",
       "      <td>1.419411e-14</td>\n",
       "      <td>1</td>\n",
       "      <td>5</td>\n",
       "    </tr>\n",
       "    <tr>\n",
       "      <th>2</th>\n",
       "      <td>2024-12-31 05:49:12</td>\n",
       "      <td>2.322610e-14</td>\n",
       "      <td>1</td>\n",
       "      <td>6</td>\n",
       "    </tr>\n",
       "    <tr>\n",
       "      <th>3</th>\n",
       "      <td>2024-12-31 05:49:12</td>\n",
       "      <td>4.941608e-15</td>\n",
       "      <td>1</td>\n",
       "      <td>7</td>\n",
       "    </tr>\n",
       "    <tr>\n",
       "      <th>4</th>\n",
       "      <td>2024-12-31 17:27:36</td>\n",
       "      <td>1.343660e-14</td>\n",
       "      <td>1</td>\n",
       "      <td>5</td>\n",
       "    </tr>\n",
       "    <tr>\n",
       "      <th>...</th>\n",
       "      <td>...</td>\n",
       "      <td>...</td>\n",
       "      <td>...</td>\n",
       "      <td>...</td>\n",
       "    </tr>\n",
       "    <tr>\n",
       "      <th>490</th>\n",
       "      <td>2124-01-01 06:00:00</td>\n",
       "      <td>1.400972e-15</td>\n",
       "      <td>1</td>\n",
       "      <td>7</td>\n",
       "    </tr>\n",
       "    <tr>\n",
       "      <th>491</th>\n",
       "      <td>2124-01-01 06:43:12</td>\n",
       "      <td>3.302104e-15</td>\n",
       "      <td>1</td>\n",
       "      <td>8</td>\n",
       "    </tr>\n",
       "    <tr>\n",
       "      <th>492</th>\n",
       "      <td>2124-12-31 12:32:24</td>\n",
       "      <td>3.294094e-15</td>\n",
       "      <td>1</td>\n",
       "      <td>8</td>\n",
       "    </tr>\n",
       "    <tr>\n",
       "      <th>493</th>\n",
       "      <td>2125-12-31 18:21:36</td>\n",
       "      <td>3.286213e-15</td>\n",
       "      <td>1</td>\n",
       "      <td>8</td>\n",
       "    </tr>\n",
       "    <tr>\n",
       "      <th>494</th>\n",
       "      <td>2127-01-01 00:10:48</td>\n",
       "      <td>3.278458e-15</td>\n",
       "      <td>1</td>\n",
       "      <td>8</td>\n",
       "    </tr>\n",
       "  </tbody>\n",
       "</table>\n",
       "<p>495 rows × 4 columns</p>\n",
       "</div>"
      ],
      "text/plain": [
       "                   date        amount  flow  activity\n",
       "0   2023-01-01 05:49:12  1.512067e-14     1         5\n",
       "1   2024-01-01 11:38:24  1.419411e-14     1         5\n",
       "2   2024-12-31 05:49:12  2.322610e-14     1         6\n",
       "3   2024-12-31 05:49:12  4.941608e-15     1         7\n",
       "4   2024-12-31 17:27:36  1.343660e-14     1         5\n",
       "..                  ...           ...   ...       ...\n",
       "490 2124-01-01 06:00:00  1.400972e-15     1         7\n",
       "491 2124-01-01 06:43:12  3.302104e-15     1         8\n",
       "492 2124-12-31 12:32:24  3.294094e-15     1         8\n",
       "493 2125-12-31 18:21:36  3.286213e-15     1         8\n",
       "494 2127-01-01 00:10:48  3.278458e-15     1         8\n",
       "\n",
       "[495 rows x 4 columns]"
      ]
     },
     "execution_count": 14,
     "metadata": {},
     "output_type": "execute_result"
    }
   ],
   "source": [
    "tlca.dynamic_lcia(\n",
    "    metric=\"radiative_forcing\",\n",
    "    time_horizon=100,\n",
    "    characterization_function_dict=characterization_function_dict,\n",
    ")"
   ]
  },
  {
   "cell_type": "markdown",
   "metadata": {},
   "source": [
    "To visualize what's going on, we can conveniently plot it with:"
   ]
  },
  {
   "cell_type": "code",
   "execution_count": 15,
   "metadata": {},
   "outputs": [
    {
     "data": {
      "image/png": "[encoded data removed]",
      "text/plain": [
       "<Figure size 1400x600 with 1 Axes>"
      ]
     },
     "metadata": {},
     "output_type": "display_data"
    }
   ],
   "source": [
    "tlca.plot_dynamic_characterized_inventory()"
   ]
  },
  {
   "cell_type": "markdown",
   "metadata": {},
   "source": [
    "Of course we can also assess the \"standard\" climate change metric Global Warming Potential (GWP):"
   ]
  },
  {
   "cell_type": "code",
   "execution_count": 16,
   "metadata": {},
   "outputs": [
    {
     "name": "stderr",
     "output_type": "stream",
     "text": [
      "/Users/timodiepers/anaconda3/envs/timex/lib/python3.10/site-packages/dynamic_characterization/dynamic_characterization.py:262: UserWarning: Using bw_timex's default CO2 characterization function for GWP reference.\n",
      "  warnings.warn(\n"
     ]
    },
    {
     "data": {
      "text/html": [
       "<div>\n",
       "<style scoped>\n",
       "    .dataframe tbody tr th:only-of-type {\n",
       "        vertical-align: middle;\n",
       "    }\n",
       "\n",
       "    .dataframe tbody tr th {\n",
       "        vertical-align: top;\n",
       "    }\n",
       "\n",
       "    .dataframe thead th {\n",
       "        text-align: right;\n",
       "    }\n",
       "</style>\n",
       "<table border=\"1\" class=\"dataframe\">\n",
       "  <thead>\n",
       "    <tr style=\"text-align: right;\">\n",
       "      <th></th>\n",
       "      <th>date</th>\n",
       "      <th>amount</th>\n",
       "      <th>flow</th>\n",
       "      <th>activity</th>\n",
       "    </tr>\n",
       "  </thead>\n",
       "  <tbody>\n",
       "    <tr>\n",
       "      <th>0</th>\n",
       "      <td>2022-01-01 00:00:00</td>\n",
       "      <td>9.179606</td>\n",
       "      <td>1</td>\n",
       "      <td>5</td>\n",
       "    </tr>\n",
       "    <tr>\n",
       "      <th>1</th>\n",
       "      <td>2024-01-01 00:00:00</td>\n",
       "      <td>14.100328</td>\n",
       "      <td>1</td>\n",
       "      <td>6</td>\n",
       "    </tr>\n",
       "    <tr>\n",
       "      <th>2</th>\n",
       "      <td>2024-01-01 00:00:00</td>\n",
       "      <td>3.000000</td>\n",
       "      <td>1</td>\n",
       "      <td>7</td>\n",
       "    </tr>\n",
       "    <tr>\n",
       "      <th>3</th>\n",
       "      <td>2024-12-31 05:49:12</td>\n",
       "      <td>2.000000</td>\n",
       "      <td>1</td>\n",
       "      <td>7</td>\n",
       "    </tr>\n",
       "    <tr>\n",
       "      <th>4</th>\n",
       "      <td>2028-01-01 00:00:00</td>\n",
       "      <td>4.680263</td>\n",
       "      <td>1</td>\n",
       "      <td>8</td>\n",
       "    </tr>\n",
       "  </tbody>\n",
       "</table>\n",
       "</div>"
      ],
      "text/plain": [
       "                 date     amount  flow  activity\n",
       "0 2022-01-01 00:00:00   9.179606     1         5\n",
       "1 2024-01-01 00:00:00  14.100328     1         6\n",
       "2 2024-01-01 00:00:00   3.000000     1         7\n",
       "3 2024-12-31 05:49:12   2.000000     1         7\n",
       "4 2028-01-01 00:00:00   4.680263     1         8"
      ]
     },
     "execution_count": 16,
     "metadata": {},
     "output_type": "execute_result"
    }
   ],
   "source": [
    "tlca.dynamic_lcia(\n",
    "    metric=\"GWP\",\n",
    "    time_horizon=100,\n",
    "    characterization_function_dict=characterization_function_dict,\n",
    ")"
   ]
  },
  {
   "cell_type": "markdown",
   "metadata": {},
   "source": [
    "... and plot it:"
   ]
  },
  {
   "cell_type": "code",
   "execution_count": 17,
   "metadata": {},
   "outputs": [
    {
     "data": {
      "image/png": "[encoded data removed]",
      "text/plain": [
       "<Figure size 1400x600 with 1 Axes>"
      ]
     },
     "metadata": {},
     "output_type": "display_data"
    }
   ],
   "source": [
    "tlca.plot_dynamic_characterized_inventory()"
   ]
  },
  {
   "cell_type": "markdown",
   "metadata": {},
   "source": [
    "For most of the functions we used here, there are numerous optional arguments and settings you can tweak. We explore some of them in our other [Examples](../examples/index.md), but when in doubt: Our code is pretty well documented and there are [docstrings](../api/index) everywhere - so please use them ☀️"
   ]
  }
 ],
 "metadata": {
  "kernelspec": {
   "display_name": "timex",
   "language": "python",
   "name": "python3"
  },
  "language_info": {
   "codemirror_mode": {
    "name": "ipython",
    "version": 3
   },
   "file_extension": ".py",
   "mimetype": "text/x-python",
   "name": "python",
   "nbconvert_exporter": "python",
   "pygments_lexer": "ipython3",
   "version": "3.10.14"
  }
 },
 "nbformat": 4,
 "nbformat_minor": 2
}
