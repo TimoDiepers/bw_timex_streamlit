{
 "cells": [
  {
   "cell_type": "code",
   "execution_count": 1,
   "metadata": {},
   "outputs": [
    {
     "name": "stderr",
     "output_type": "stream",
     "text": [
      "100%|██████████| 1/1 [00:00<00:00, 7281.78it/s]"
     ]
    },
    {
     "name": "stdout",
     "output_type": "stream",
     "text": [
      "Vacuuming database \n"
     ]
    },
    {
     "name": "stderr",
     "output_type": "stream",
     "text": [
      "\n"
     ]
    }
   ],
   "source": [
    "import math\n",
    "from datetime import datetime\n",
    "\n",
    "import bw2data as bd\n",
    "import numpy as np\n",
    "import pandas as pd\n",
    "import pytest\n",
    "from bw2data.tests import bw2test\n",
    "from bw_temporalis import TemporalDistribution\n",
    "\n",
    "from bw_timex import TimexLCA\n",
    "\n",
    "\n",
    "bd.projects.set_current(\"__wastes_db__\")\n",
    "biosphere = bd.Database(\"biosphere\")\n",
    "biosphere.write(\n",
    "    {\n",
    "        (\"biosphere\", \"CO2\"): {\n",
    "            \"type\": \"emission\",\n",
    "            \"name\": \"carbon dioxide\",\n",
    "        },\n",
    "    }\n",
    ")\n",
    "\n",
    "foreground = bd.Database(\"foreground\")\n",
    "foreground.register()\n",
    "background_2020 = bd.Database(\"background_2020\")\n",
    "background_2020.register()\n",
    "\n",
    "node_co2 = biosphere.get(\"CO2\")\n",
    "\n",
    "fu = foreground.new_node(\"fu\", name=\"fu\", unit=\"unit\")\n",
    "fu[\"reference product\"] = \"fu\"\n",
    "fu.save()\n",
    "\n",
    "used_car = foreground.new_node(\"used_car\", name=\"used_car\", unit=\"unit\")\n",
    "used_car[\"reference product\"] = \"used_car\"\n",
    "used_car.save()\n",
    "\n",
    "car_treatment_2020 = background_2020.new_node(\n",
    "    \"car_treatment\", name=\"car_treatment\", unit=\"car_treatment\"\n",
    ")\n",
    "car_treatment_2020[\"reference product\"] = \"car_treatment\"\n",
    "car_treatment_2020.save()\n",
    "\n",
    "fu.new_edge(input=fu, amount=1, type=\"production\").save()\n",
    "fu.new_edge(input=used_car, amount=-1, type=\"technosphere\").save()\n",
    "\n",
    "used_car.new_edge(input=used_car, amount=-1, type=\"production\").save()\n",
    "used_car.new_edge(input=car_treatment_2020, amount=-3, type=\"technosphere\").save()\n",
    "\n",
    "car_treatment_2020.new_edge(\n",
    "    input=car_treatment_2020, amount=-1, type=\"production\"\n",
    ").save()\n",
    "car_treatment_2020.new_edge(input=node_co2, amount=1, type=\"biosphere\").save()\n",
    "\n",
    "bd.Method((\"GWP\", \"example\")).write(\n",
    "    [\n",
    "        ((\"biosphere\", \"CO2\"), 1),\n",
    "    ]\n",
    ")"
   ]
  },
  {
   "cell_type": "code",
   "execution_count": 2,
   "metadata": {},
   "outputs": [
    {
     "name": "stdout",
     "output_type": "stream",
     "text": [
      "Starting graph traversal\n",
      "Calculation count: 2\n"
     ]
    },
    {
     "name": "stderr",
     "output_type": "stream",
     "text": [
      "/Users/timodiepers/Documents/Coding/bw_timex/bw_timex/timex_lca.py:194: UserWarning: No edge filter function provided. Skipping all edges within background databases.\n",
      "  warnings.warn(\n",
      "/Users/timodiepers/Documents/Coding/bw_timex/bw_timex/timeline_builder.py:527: Warning: Reference date 2024-01-01 00:00:00 is higher than all provided dates. Data will be taken from the closest lower year.\n",
      "  warnings.warn(\n",
      "/Users/timodiepers/anaconda3/envs/timex/lib/python3.10/site-packages/bw2calc/lca_base.py:127: SparseEfficiencyWarning: splu converted its input to CSC format\n",
      "  self.solver = factorized(self.technosphere_matrix)\n"
     ]
    }
   ],
   "source": [
    "method = (\"GWP\", \"example\")\n",
    "database_date_dict = {\n",
    "    \"background_2020\": datetime.strptime(\"2020\", \"%Y\"),\n",
    "    \"foreground\": \"dynamic\",\n",
    "}\n",
    "fu = (\"foreground\", \"fu\")\n",
    "tlca = TimexLCA({fu: 1}, method, database_date_dict)\n",
    "tlca.build_timeline()\n",
    "tlca.lci()\n",
    "tlca.static_lcia()\n",
    "\n",
    "assert math.isclose(tlca.static_lca.score, tlca.static_score, rel_tol=1e-9)"
   ]
  },
  {
   "cell_type": "code",
   "execution_count": 5,
   "metadata": {},
   "outputs": [
    {
     "data": {
      "text/html": [
       "<div>\n",
       "<style scoped>\n",
       "    .dataframe tbody tr th:only-of-type {\n",
       "        vertical-align: middle;\n",
       "    }\n",
       "\n",
       "    .dataframe tbody tr th {\n",
       "        vertical-align: top;\n",
       "    }\n",
       "\n",
       "    .dataframe thead th {\n",
       "        text-align: right;\n",
       "    }\n",
       "</style>\n",
       "<table border=\"1\" class=\"dataframe\">\n",
       "  <thead>\n",
       "    <tr style=\"text-align: right;\">\n",
       "      <th></th>\n",
       "      <th>hash_producer</th>\n",
       "      <th>time_mapped_producer</th>\n",
       "      <th>date_producer</th>\n",
       "      <th>producer</th>\n",
       "      <th>producer_name</th>\n",
       "      <th>hash_consumer</th>\n",
       "      <th>time_mapped_consumer</th>\n",
       "      <th>date_consumer</th>\n",
       "      <th>consumer</th>\n",
       "      <th>consumer_name</th>\n",
       "      <th>amount</th>\n",
       "      <th>interpolation_weights</th>\n",
       "    </tr>\n",
       "  </thead>\n",
       "  <tbody>\n",
       "    <tr>\n",
       "      <th>0</th>\n",
       "      <td>2024</td>\n",
       "      <td>5</td>\n",
       "      <td>2024-01-01</td>\n",
       "      <td>2</td>\n",
       "      <td>fu</td>\n",
       "      <td>2024</td>\n",
       "      <td>-1</td>\n",
       "      <td>2024-01-01</td>\n",
       "      <td>-1</td>\n",
       "      <td>-1</td>\n",
       "      <td>1.0</td>\n",
       "      <td>None</td>\n",
       "    </tr>\n",
       "    <tr>\n",
       "      <th>1</th>\n",
       "      <td>2024</td>\n",
       "      <td>6</td>\n",
       "      <td>2024-01-01</td>\n",
       "      <td>3</td>\n",
       "      <td>used_car</td>\n",
       "      <td>2024</td>\n",
       "      <td>5</td>\n",
       "      <td>2024-01-01</td>\n",
       "      <td>2</td>\n",
       "      <td>fu</td>\n",
       "      <td>-1.0</td>\n",
       "      <td>None</td>\n",
       "    </tr>\n",
       "    <tr>\n",
       "      <th>2</th>\n",
       "      <td>2024</td>\n",
       "      <td>7</td>\n",
       "      <td>2024-01-01</td>\n",
       "      <td>4</td>\n",
       "      <td>car_treatment</td>\n",
       "      <td>2024</td>\n",
       "      <td>6</td>\n",
       "      <td>2024-01-01</td>\n",
       "      <td>3</td>\n",
       "      <td>used_car</td>\n",
       "      <td>-3.0</td>\n",
       "      <td>{'background_2020': 1}</td>\n",
       "    </tr>\n",
       "  </tbody>\n",
       "</table>\n",
       "</div>"
      ],
      "text/plain": [
       "   hash_producer  time_mapped_producer date_producer  producer  producer_name  \\\n",
       "0           2024                     5    2024-01-01         2             fu   \n",
       "1           2024                     6    2024-01-01         3       used_car   \n",
       "2           2024                     7    2024-01-01         4  car_treatment   \n",
       "\n",
       "   hash_consumer  time_mapped_consumer date_consumer  consumer consumer_name  \\\n",
       "0           2024                    -1    2024-01-01        -1            -1   \n",
       "1           2024                     5    2024-01-01         2            fu   \n",
       "2           2024                     6    2024-01-01         3      used_car   \n",
       "\n",
       "  amount   interpolation_weights  \n",
       "0    1.0                    None  \n",
       "1   -1.0                    None  \n",
       "2   -3.0  {'background_2020': 1}  "
      ]
     },
     "execution_count": 5,
     "metadata": {},
     "output_type": "execute_result"
    }
   ],
   "source": [
    "tlca.timeline"
   ]
  },
  {
   "cell_type": "code",
   "execution_count": 3,
   "metadata": {},
   "outputs": [
    {
     "data": {
      "text/plain": [
       "3.0"
      ]
     },
     "execution_count": 3,
     "metadata": {},
     "output_type": "execute_result"
    }
   ],
   "source": [
    "tlca.static_lca.score"
   ]
  },
  {
   "cell_type": "code",
   "execution_count": 4,
   "metadata": {},
   "outputs": [
    {
     "data": {
      "text/plain": [
       "3.0000000000000004"
      ]
     },
     "execution_count": 4,
     "metadata": {},
     "output_type": "execute_result"
    }
   ],
   "source": [
    "tlca.static_score"
   ]
  },
  {
   "cell_type": "code",
   "execution_count": null,
   "metadata": {},
   "outputs": [],
   "source": []
  }
 ],
 "metadata": {
  "kernelspec": {
   "display_name": "timex",
   "language": "python",
   "name": "python3"
  },
  "language_info": {
   "codemirror_mode": {
    "name": "ipython",
    "version": 3
   },
   "file_extension": ".py",
   "mimetype": "text/x-python",
   "name": "python",
   "nbconvert_exporter": "python",
   "pygments_lexer": "ipython3",
   "version": "3.10.14"
  }
 },
 "nbformat": 4,
 "nbformat_minor": 2
}
