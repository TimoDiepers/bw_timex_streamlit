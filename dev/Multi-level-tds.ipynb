{
 "cells": [
  {
   "cell_type": "markdown",
   "metadata": {},
   "source": [
    "# Time-explicit LCA of an electric vehicle\n"
   ]
  },
  {
   "cell_type": "markdown",
   "metadata": {},
   "source": [
    "This notebook shows how to use `bw_timex` with a cradle-to-grave case study of an electric vehicle (ev). The case study is simplified, not meant to reflect the complexity of electric mobility but to demonstrate hot to use `bw_timex`. \n",
    "\n",
    "More information on the inner workings of `bw_timex` can be found [here](https://timex.readthedocs.io/en/latest/content/theory.html).\n",
    "\n",
    "\n",
    "> **Note:** This is the \"premise\" version of this notebook that works with ecoinvent and premise data. If you don't have access to that, please check out the [\"standalone\" version](https://github.com/brightway-lca/bw_timex/blob/main/notebooks/example_electric_vehicle_standalone.ipynb) of this notebook."
   ]
  },
  {
   "cell_type": "code",
   "execution_count": 36,
   "metadata": {},
   "outputs": [],
   "source": [
    "import bw2data as bd\n",
    "\n",
    "bd.projects.set_current(\"multi-level-tds\")"
   ]
  },
  {
   "cell_type": "code",
   "execution_count": 37,
   "metadata": {},
   "outputs": [
    {
     "name": "stderr",
     "output_type": "stream",
     "text": [
      "100%|██████████| 1/1 [00:00<00:00, 23831.27it/s]"
     ]
    },
    {
     "name": "stdout",
     "output_type": "stream",
     "text": [
      "Vacuuming database \n"
     ]
    },
    {
     "name": "stderr",
     "output_type": "stream",
     "text": [
      "\n"
     ]
    }
   ],
   "source": [
    "biosphere = bd.Database(\"biosphere\")\n",
    "biosphere.write(\n",
    "    {\n",
    "        (\"biosphere\", \"CO2\"): {\n",
    "            \"type\": \"emission\",\n",
    "            \"name\": \"carbon dioxide\",\n",
    "        },\n",
    "    }\n",
    ")\n",
    "\n",
    "if \"foreground\" in bd.databases:\n",
    "    del bd.databases[\"foreground\"] # to make sure we create the foreground from scratch\n",
    "foreground = bd.Database(\"foreground\")\n",
    "foreground.register()\n",
    "\n",
    "if \"background_2020\" in bd.databases:\n",
    "    del bd.databases[\"background_2020\"] # to make sure we create the foreground from scratch\n",
    "background_2020 = bd.Database(\"background_2020\")\n",
    "background_2020.register()\n",
    "\n",
    "if \"background_2030\" in bd.databases:\n",
    "    del bd.databases[\"background_2030\"] # to make sure we create the foreground from scratch\n",
    "background_2030 = bd.Database(\"background_2030\")\n",
    "background_2030.register()"
   ]
  },
  {
   "cell_type": "code",
   "execution_count": 38,
   "metadata": {},
   "outputs": [],
   "source": [
    "node_co2 = biosphere.get(\"CO2\")\n",
    "\n",
    "fu = foreground.new_node(\"fu\", name=\"fu\", unit=\"unit\")\n",
    "fu['reference product'] = \"fu\"\n",
    "fu.save()\n",
    "\n",
    "first_level_input = foreground.new_node(\"first_level_input\", name=\"first_level_input\", unit=\"unit\")\n",
    "first_level_input['reference product'] = \"first_level_input\"\n",
    "first_level_input.save()\n",
    "\n",
    "background_process_2020 = background_2020.new_node(\"background_process\", name=\"background_process\", unit=\"background_process\")\n",
    "background_process_2020['reference product'] = \"background_process\"\n",
    "background_process_2020.save()\n",
    "\n",
    "background_process_2030 = background_2030.new_node(\"background_process\", name=\"background_process\", unit=\"background_process\")\n",
    "background_process_2030['reference product'] = \"background_process\"\n",
    "background_process_2030.save()\n"
   ]
  },
  {
   "cell_type": "code",
   "execution_count": 39,
   "metadata": {},
   "outputs": [],
   "source": [
    "fu.new_edge(input=fu, amount=1, type=\"production\").save()\n",
    "first_level_input_to_fu = fu.new_edge(input=first_level_input, amount=1, type=\"technosphere\")\n",
    "\n",
    "first_level_input.new_edge(input=first_level_input, amount=1, type=\"production\").save()\n",
    "background_process_2020_to_first_level_input = first_level_input.new_edge(input=background_process_2020, amount=1, type=\"technosphere\")\n",
    "\n",
    "background_process_2020.new_edge(input=background_process_2020, amount=1, type=\"production\").save()\n",
    "background_process_2020.new_edge(input=node_co2, amount=17, type=\"biosphere\").save()\n",
    "\n",
    "background_process_2030.new_edge(input=background_process_2030, amount=1, type=\"production\").save()\n",
    "background_process_2030.new_edge(input=node_co2, amount=11, type=\"biosphere\").save()\n"
   ]
  },
  {
   "cell_type": "code",
   "execution_count": 40,
   "metadata": {},
   "outputs": [],
   "source": [
    "from bw_temporalis import TemporalDistribution\n",
    "import numpy as np\n",
    "\n",
    "td_first_level_input_to_fu = TemporalDistribution(\n",
    "    date=np.array([1, 2], dtype=\"timedelta64[Y]\"), amount=np.array([0.2, 0.8])\n",
    ")\n",
    "\n",
    "td_background_process_2020_to_first_level_input = TemporalDistribution(\n",
    "    date=np.array([2, 3], dtype=\"timedelta64[Y]\"), amount=np.array([0.5, 0.5])\n",
    ")"
   ]
  },
  {
   "cell_type": "code",
   "execution_count": 41,
   "metadata": {},
   "outputs": [],
   "source": [
    "first_level_input_to_fu[\"temporal_distribution\"] = td_first_level_input_to_fu\n",
    "first_level_input_to_fu.save()\n",
    "\n",
    "background_process_2020_to_first_level_input[\"temporal_distribution\"] = td_background_process_2020_to_first_level_input\n",
    "background_process_2020_to_first_level_input.save()"
   ]
  },
  {
   "cell_type": "markdown",
   "metadata": {},
   "source": [
    "## LCA using `bw_timex`\n"
   ]
  },
  {
   "cell_type": "markdown",
   "metadata": {},
   "source": [
    "As usual, we need to select a method:"
   ]
  },
  {
   "cell_type": "code",
   "execution_count": 42,
   "metadata": {},
   "outputs": [],
   "source": [
    "method = (\"GWP\", \"example\")\n",
    "bd.Method(method).write(\n",
    "    [\n",
    "        ((\"biosphere\", \"CO2\"), 1),\n",
    "    ]\n",
    ")"
   ]
  },
  {
   "cell_type": "code",
   "execution_count": 43,
   "metadata": {},
   "outputs": [],
   "source": [
    "from datetime import datetime\n",
    "\n",
    "database_date_dict = {\n",
    "    \"background_2020\": datetime.strptime(\"2020\", \"%Y\"),\n",
    "    \"background_2030\": datetime.strptime(\"2030\", \"%Y\"),\n",
    "    \"foreground\": \"dynamic\", # flag databases that should be temporally distributed with \"dynamic\"\n",
    "}"
   ]
  },
  {
   "cell_type": "code",
   "execution_count": 44,
   "metadata": {},
   "outputs": [],
   "source": [
    "from bw_timex import TimexLCA\n",
    "\n",
    "tlca = TimexLCA({fu: 1}, method, database_date_dict)"
   ]
  },
  {
   "cell_type": "code",
   "execution_count": 45,
   "metadata": {},
   "outputs": [
    {
     "name": "stdout",
     "output_type": "stream",
     "text": [
      "Starting graph traversal\n",
      "Calculation count: 2\n"
     ]
    },
    {
     "name": "stderr",
     "output_type": "stream",
     "text": [
      "/Users/timodiepers/Documents/Coding/bw_timex/bw_timex/timex_lca.py:195: UserWarning: No edge filter function provided. Skipping all edges within background databases.\n",
      "  warnings.warn(\n"
     ]
    },
    {
     "data": {
      "text/html": [
       "<div>\n",
       "<style scoped>\n",
       "    .dataframe tbody tr th:only-of-type {\n",
       "        vertical-align: middle;\n",
       "    }\n",
       "\n",
       "    .dataframe tbody tr th {\n",
       "        vertical-align: top;\n",
       "    }\n",
       "\n",
       "    .dataframe thead th {\n",
       "        text-align: right;\n",
       "    }\n",
       "</style>\n",
       "<table border=\"1\" class=\"dataframe\">\n",
       "  <thead>\n",
       "    <tr style=\"text-align: right;\">\n",
       "      <th></th>\n",
       "      <th>date_producer</th>\n",
       "      <th>producer_name</th>\n",
       "      <th>date_consumer</th>\n",
       "      <th>consumer_name</th>\n",
       "      <th>amount</th>\n",
       "      <th>interpolation_weights</th>\n",
       "    </tr>\n",
       "  </thead>\n",
       "  <tbody>\n",
       "    <tr>\n",
       "      <th>0</th>\n",
       "      <td>2024-08-01</td>\n",
       "      <td>fu</td>\n",
       "      <td>2024-08-01</td>\n",
       "      <td>-1</td>\n",
       "      <td>1.0</td>\n",
       "      <td>None</td>\n",
       "    </tr>\n",
       "    <tr>\n",
       "      <th>1</th>\n",
       "      <td>2025-08-01</td>\n",
       "      <td>first_level_input</td>\n",
       "      <td>2024-08-01</td>\n",
       "      <td>fu</td>\n",
       "      <td>0.2</td>\n",
       "      <td>None</td>\n",
       "    </tr>\n",
       "    <tr>\n",
       "      <th>2</th>\n",
       "      <td>2026-08-01</td>\n",
       "      <td>first_level_input</td>\n",
       "      <td>2024-08-01</td>\n",
       "      <td>fu</td>\n",
       "      <td>0.8</td>\n",
       "      <td>None</td>\n",
       "    </tr>\n",
       "    <tr>\n",
       "      <th>3</th>\n",
       "      <td>2027-08-01</td>\n",
       "      <td>background_process</td>\n",
       "      <td>2025-08-01</td>\n",
       "      <td>first_level_input</td>\n",
       "      <td>0.5</td>\n",
       "      <td>{'background_2020': 0.24199288256227758, 'back...</td>\n",
       "    </tr>\n",
       "    <tr>\n",
       "      <th>4</th>\n",
       "      <td>2028-08-01</td>\n",
       "      <td>background_process</td>\n",
       "      <td>2025-08-01</td>\n",
       "      <td>first_level_input</td>\n",
       "      <td>0.5</td>\n",
       "      <td>{'background_2020': 0.14180125923898168, 'back...</td>\n",
       "    </tr>\n",
       "    <tr>\n",
       "      <th>5</th>\n",
       "      <td>2028-08-01</td>\n",
       "      <td>background_process</td>\n",
       "      <td>2026-08-01</td>\n",
       "      <td>first_level_input</td>\n",
       "      <td>0.5</td>\n",
       "      <td>{'background_2020': 0.14180125923898168, 'back...</td>\n",
       "    </tr>\n",
       "    <tr>\n",
       "      <th>6</th>\n",
       "      <td>2029-08-01</td>\n",
       "      <td>background_process</td>\n",
       "      <td>2026-08-01</td>\n",
       "      <td>first_level_input</td>\n",
       "      <td>0.5</td>\n",
       "      <td>{'background_2020': 0.041883383520394224, 'bac...</td>\n",
       "    </tr>\n",
       "  </tbody>\n",
       "</table>\n",
       "</div>"
      ],
      "text/plain": [
       "  date_producer       producer_name date_consumer      consumer_name amount  \\\n",
       "0    2024-08-01                  fu    2024-08-01                 -1    1.0   \n",
       "1    2025-08-01   first_level_input    2024-08-01                 fu    0.2   \n",
       "2    2026-08-01   first_level_input    2024-08-01                 fu    0.8   \n",
       "3    2027-08-01  background_process    2025-08-01  first_level_input    0.5   \n",
       "4    2028-08-01  background_process    2025-08-01  first_level_input    0.5   \n",
       "5    2028-08-01  background_process    2026-08-01  first_level_input    0.5   \n",
       "6    2029-08-01  background_process    2026-08-01  first_level_input    0.5   \n",
       "\n",
       "                               interpolation_weights  \n",
       "0                                               None  \n",
       "1                                               None  \n",
       "2                                               None  \n",
       "3  {'background_2020': 0.24199288256227758, 'back...  \n",
       "4  {'background_2020': 0.14180125923898168, 'back...  \n",
       "5  {'background_2020': 0.14180125923898168, 'back...  \n",
       "6  {'background_2020': 0.041883383520394224, 'bac...  "
      ]
     },
     "execution_count": 45,
     "metadata": {},
     "output_type": "execute_result"
    }
   ],
   "source": [
    "tlca.build_timeline(temporal_grouping=\"month\")"
   ]
  }
 ],
 "metadata": {
  "kernelspec": {
   "display_name": "Python 3 (ipykernel)",
   "language": "python",
   "name": "python3"
  },
  "language_info": {
   "codemirror_mode": {
    "name": "ipython",
    "version": 3
   },
   "file_extension": ".py",
   "mimetype": "text/x-python",
   "name": "python",
   "nbconvert_exporter": "python",
   "pygments_lexer": "ipython3",
   "version": "3.10.14"
  }
 },
 "nbformat": 4,
 "nbformat_minor": 4
}
